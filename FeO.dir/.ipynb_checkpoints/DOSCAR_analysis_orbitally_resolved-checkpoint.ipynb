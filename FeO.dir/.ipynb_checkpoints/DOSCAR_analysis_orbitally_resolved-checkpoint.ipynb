{
 "cells": [
  {
   "cell_type": "code",
   "execution_count": 1,
   "metadata": {},
   "outputs": [],
   "source": [
    "%matplotlib inline\n",
    "\n",
    "import sys\n",
    "#from plt import rcParams\n",
    "import matplotlib.pyplot as plt\n",
    "import numpy as np\n",
    "\n",
    "# plt.rc('font',**{'family':'sans-serif','sans-serif':['Arial']})\n",
    "#rcParams['font.family'] = 'sans-serif'\n",
    "#rcParams['font.sans-serif'] = ['Helvetica']\n",
    "\n",
    "from ase import Atoms\n",
    "from ase.io import read\n",
    "from ase.calculators.vasp import Vasp\n",
    "from ase.calculators.vasp import VaspDos"
   ]
  },
  {
   "cell_type": "markdown",
   "metadata": {},
   "source": [
    "Lableing of the columns in the DOSCAR file containing Total and Partial (site and orbital projected) DOSs.\n",
    "\n",
    "Below is given the dictionary that associates orbital labels to pdos columns in a DOSCAR file. The definition of this dictionary is the one used in the VaspDos class in the ASE VASP calculator, development version (Oct 19, 2013)\n",
    "\n",
    "Spin-unpolarized case:\n",
    "\n",
    "norb = {'s':1, 'py':2, 'pz':3, 'px':4, 'dxy':5, 'dyz':6, 'dz2':7, 'dxz':8, 'dx2':9}\n",
    "\n",
    "Spin-polarized case:\n",
    "\n",
    "norb = {'s+':1, 's-up':1, 's-':2, 's-down':2, 'py+':3, 'py-up':3, 'py-':4, 'py-down':4,'pz+':5, 'pz-up':5, 'pz-':6, 'pz-down':6, 'px+':7, 'px-up':7, 'px-':8, 'px-down':8,'dxy+':9, 'dxy-up':9, 'dxy-':10, 'dxy-down':10,'dyz+':11, 'dyz-up':11, 'dyz-':12, 'dyz-down':12,'dz2+':13, 'dz2-up':13, 'dz2-':14, 'dz2-down':14,'dxz+':15, 'dxz-up':15, 'dxz-':16, 'dxz-down':16,'dx2+':17, 'dx2-up':17, 'dx2-':18, 'dx2-down':18}"
   ]
  },
  {
   "cell_type": "code",
   "execution_count": 2,
   "metadata": {},
   "outputs": [],
   "source": [
    "work_dir = './mcl.dir/'"
   ]
  },
  {
   "cell_type": "code",
   "execution_count": 3,
   "metadata": {},
   "outputs": [],
   "source": [
    "struct = read(work_dir+'CONTCAR')\n",
    "outcar_file = work_dir+'OUTCAR'\n",
    "doscar_file = work_dir+'DOSCAR'"
   ]
  },
  {
   "cell_type": "code",
   "execution_count": 4,
   "metadata": {},
   "outputs": [
    {
     "data": {
      "text/plain": [
       "4.031"
      ]
     },
     "execution_count": 4,
     "metadata": {},
     "output_type": "execute_result"
    }
   ],
   "source": [
    "# Read the Fermi level from the OUTCAR file of the current calculation\n",
    "\n",
    "E_f=None\n",
    "for line in open(outcar_file, 'r'):\n",
    "    if line.rfind('E-fermi') > -1:\n",
    "        E_f=float(line.split()[2])\n",
    "E_f"
   ]
  },
  {
   "cell_type": "code",
   "execution_count": 5,
   "metadata": {},
   "outputs": [
    {
     "name": "stdout",
     "output_type": "stream",
     "text": [
      "4.031\n"
     ]
    }
   ],
   "source": [
    "# Import the total and orbital-projected density of states in the through the VaspDos \n",
    "# class. This class creates objects that hold total and site DOSs as properties that\n",
    "# are accessible as the following properties: efermi (Fermi level), energy (numpy array\n",
    "# of energies), dos (numpy array holding the total DOS). The site_dos() methods allow one\n",
    "# to access the site projected DOS\n",
    "\n",
    "# I adjusted the E_f in order to make the VBM coincide with the Fermi level\n",
    "#E_f = 3.64\n",
    "\n",
    "dos = VaspDos(doscar=doscar_file,efermi=E_f)\n",
    "print(dos.efermi)\n",
    "energies = dos.energy\n",
    "\n",
    "energies.size\n",
    "nedos = energies.size\n",
    "cont = np.zeros(nedos)"
   ]
  },
  {
   "cell_type": "code",
   "execution_count": 6,
   "metadata": {},
   "outputs": [],
   "source": [
    "# Step 1: Plot the Total Density of States\n",
    "\n",
    "#plt.plot(energies, dos.dos)\n",
    "#plt.xlabel('Energy - $E_f$ (eV)')\n",
    "#plt.xlim((-4,5))\n",
    "#plt.ylim((0,25))\n",
    "#plt.xlabel('Energy (eV)')\n",
    "#plt.ylabel('DOS')\n",
    "#plt.show()"
   ]
  },
  {
   "cell_type": "code",
   "execution_count": 7,
   "metadata": {},
   "outputs": [
    {
     "name": "stdout",
     "output_type": "stream",
     "text": [
      "Atoms(symbols='Fe4O4', pbc=True, cell=[[4.399673924855201, 4.399673924855203, 0.0110178644701637], [2.2052732616477124, 2.2052732616477124, 4.497391858295706], [2.1377562370573298, -2.1377562370573298, 0.0]])\n"
     ]
    }
   ],
   "source": [
    "print(struct)"
   ]
  },
  {
   "cell_type": "code",
   "execution_count": 8,
   "metadata": {},
   "outputs": [
    {
     "name": "stdout",
     "output_type": "stream",
     "text": [
      "Species of each atom in thi structure:\n",
      "['Fe', 'Fe', 'Fe', 'Fe', 'O', 'O', 'O', 'O']\n",
      "Species forming this compound:\n",
      "['Fe', 'O']\n"
     ]
    }
   ],
   "source": [
    "# Print for each atom in the structure its species\n",
    "print('Species of each atom in thi structure:')\n",
    "print(struct.get_chemical_symbols())\n",
    "#\n",
    "print('Species forming this compound:')\n",
    "print(list(set(struct.get_chemical_symbols())))\n",
    "\n",
    "sites = struct.get_chemical_symbols()"
   ]
  },
  {
   "cell_type": "code",
   "execution_count": 9,
   "metadata": {},
   "outputs": [],
   "source": [
    "def read_pdos_element(dos,sites,elem,orb,fact=1.0):\n",
    "    \n",
    "    nedos = dos.energy.size\n",
    "    #\n",
    "    # Spin-unpolarized case\n",
    "    #\n",
    "    if orb == 's':\n",
    "        s_orb = ['s']\n",
    "        orb_set = s_orb\n",
    "    elif orb == 'p':\n",
    "        p_orb = ['px','py','pz']\n",
    "        orb_set = p_orb\n",
    "    elif orb == 'd':\n",
    "        d_orb = ['dxy','dyz','dxz','dz2','dx2']\n",
    "        orb_set = d_orb\n",
    "    #\n",
    "    # Spin-polarized case\n",
    "    #\n",
    "    # s\n",
    "    #\n",
    "    elif orb == 's+':\n",
    "        s_orb = ['s+']\n",
    "        orb_set = s_orb\n",
    "    elif orb == 's-':\n",
    "        s_orb = ['s-']\n",
    "        orb_set = s_orb\n",
    "    #\n",
    "    # p\n",
    "    #\n",
    "    elif orb == 'p+':\n",
    "        p_orb = ['px+','py+','pz+']\n",
    "        orb_set = p_orb\n",
    "    elif orb == 'p-':\n",
    "        p_orb = ['px-','py-','pz-']\n",
    "        orb_set = p_orb\n",
    "    #\n",
    "    # d\n",
    "    #\n",
    "    elif orb == 'd+':\n",
    "        d_orb = ['dxy+','dyz+','dxz+','dz2+','dx2+']\n",
    "        orb_set = d_orb\n",
    "    elif orb == 'd-':\n",
    "        d_orb = ['dxy-','dyz-','dxz-','dz2-','dx2-']\n",
    "        orb_set = d_orb    \n",
    "    \n",
    "    atom_list = [(i,sites[i]) for i in range(len(sites))]\n",
    "    \n",
    "    atom_pdos_comp = np.zeros(nedos)\n",
    "    for (iat,s) in atom_list:\n",
    "        if s == elem:\n",
    "            for o in orb_set:\n",
    "                atom_pdos_comp = atom_pdos_comp + dos.site_dos(iat,o)\n",
    "                \n",
    "    return fact*atom_pdos_comp"
   ]
  },
  {
   "cell_type": "code",
   "execution_count": 10,
   "metadata": {},
   "outputs": [],
   "source": [
    "def read_pdos_element_orb_resolved(dos,sites,elem,orb,fact):\n",
    "    \n",
    "    nedos = dos.energy.size\n",
    "       \n",
    "    atom_list = [(i,sites[i]) for i in range(len(sites))]\n",
    "    \n",
    "    atom_pdos_comp = np.zeros(nedos)\n",
    "    for (iat,s) in atom_list:\n",
    "        if s == elem:\n",
    "            for o in orb:\n",
    "                atom_pdos_comp = atom_pdos_comp + dos.site_dos(iat,o)\n",
    "                \n",
    "    return fact*atom_pdos_comp"
   ]
  },
  {
   "cell_type": "code",
   "execution_count": 11,
   "metadata": {},
   "outputs": [],
   "source": [
    "# Step 2: prepare the files containing the site and orbital projected DOS\n",
    "\n",
    "Fe_dos = {}\n",
    "O_dos = {}\n",
    "\n",
    "t2g_up = ('dxy+','dyz+','dxz+')\n",
    "eg_up = ('dz2+','dx2+')\n",
    "\n",
    "t2g_dw = ('dxy-','dyz-','dxz-')\n",
    "eg_dw = ('dz2-','dx2-')\n",
    "\n",
    "p_orb_up = ('px+','py+','pz+')\n",
    "p_orb_dw = ('px-','py-','pz-')\n",
    "\n",
    "s_orb_up = ('s+',)\n",
    "s_orb_dw = ('s-',)\n",
    "\n",
    "fact = 0.5\n",
    "\n",
    "element = 'Fe'\n",
    "\n",
    "sites_mom_up = sites[0:2]\n",
    "\n",
    "Fe_dos['t2g+']=read_pdos_element_orb_resolved(dos,\n",
    "                                         sites_mom_up,\n",
    "                                         elem=element,\n",
    "                                         orb=t2g_up,\n",
    "                                         fact=fact)\n",
    "\n",
    "Fe_dos['t2g-']=read_pdos_element_orb_resolved(dos,\n",
    "                                         sites_mom_up,\n",
    "                                         elem=element,\n",
    "                                         orb=t2g_dw,\n",
    "                                         fact=fact)\n",
    "\n",
    "Fe_dos['eg+']=read_pdos_element_orb_resolved(dos,\n",
    "                                         sites_mom_up,\n",
    "                                         elem=element,\n",
    "                                         orb=eg_up,\n",
    "                                         fact=fact)\n",
    "\n",
    "Fe_dos['eg-']=read_pdos_element_orb_resolved(dos,\n",
    "                                         sites_mom_up,\n",
    "                                         elem=element,\n",
    "                                         orb=eg_dw,\n",
    "                                         fact=fact)\n",
    "\n",
    "Fe_dos['s+']=read_pdos_element_orb_resolved(dos,\n",
    "                                            sites_mom_up,\n",
    "                                            elem=element,\n",
    "                                            orb=s_orb_up,\n",
    "                                            fact=fact)\n",
    "\n",
    "Fe_dos['s-']=read_pdos_element_orb_resolved(dos,\n",
    "                                            sites_mom_up,\n",
    "                                            elem=element,\n",
    "                                            orb=s_orb_dw,\n",
    "                                            fact=fact)\n",
    "\n",
    "#########################################################################\n",
    "element = 'O'\n",
    "\n",
    "O_dos['p+']=read_pdos_element(dos,sites,elem=element,orb='p+',fact=fact)\n",
    "O_dos['p-']=read_pdos_element(dos,sites,elem=element,orb='p-',fact=fact)\n",
    "\n"
   ]
  },
  {
   "cell_type": "code",
   "execution_count": 12,
   "metadata": {},
   "outputs": [
    {
     "name": "stdout",
     "output_type": "stream",
     "text": [
      "<class 'numpy.ndarray'>\n"
     ]
    },
    {
     "data": {
      "image/png": "[encoded data removed]",
      "text/plain": [
       "<matplotlib.figure.Figure at 0x7f9e973407b8>"
      ]
     },
     "metadata": {},
     "output_type": "display_data"
    }
   ],
   "source": [
    "xmin = -8\n",
    "xmax =  10\n",
    "xstep = 2\n",
    "\n",
    "ymin = -2\n",
    "ymax =  2\n",
    "ystep = 1\n",
    "\n",
    "xaxis_ticks = range(xmin,xmax+xstep,xstep)\n",
    "yaxis_ticks = range(ymin,ymax+ystep,ystep)\n",
    "\n",
    "################################################################################\n",
    "\n",
    "compound = 'FeO'\n",
    "calculation = 'FeO_mcl'\n",
    "\n",
    "################################################################################\n",
    "# Orbitally resolved for the Fe sites with positive magnetic moments\n",
    "#\n",
    "plt.xlim((xmin,xmax))\n",
    "plt.ylim((ymin,ymax))\n",
    "\n",
    "\n",
    "lwidth = 2.5\n",
    "\n",
    "eps = 1.e-9\n",
    "\n",
    "x = energies[::2]\n",
    "y = Fe_dos['t2g+'][::2]\n",
    "print(type(y))\n",
    "ind1 = (x <= 0.01)\n",
    "#ind2 = np.abs(y[x > eps])> eps\n",
    "ind2 = (x >  eps) & (y>= eps)\n",
    "plt.plot(x[ind1], y[ind1],color='blue',linewidth=lwidth)\n",
    "plt.plot(x[ind2], y[ind2],color='blue',linewidth=lwidth)\n",
    "\n",
    "x = energies[::2]\n",
    "y = Fe_dos['eg+'][::2]\n",
    "ind1 = (x <= 0.01)\n",
    "ind2 = (x >  eps) & (y>= eps)\n",
    "plt.plot(x[ind1], y[ind1],color='red',linewidth=lwidth)\n",
    "plt.plot(x[ind2], y[ind2],color='red',linewidth=lwidth)\n",
    "\n",
    "x = energies[::2]\n",
    "y = Fe_dos['t2g-'][::2]\n",
    "ind1 = (x <= 0.01)\n",
    "ind2 = (x >  eps) & (y>= eps)\n",
    "plt.plot(x[ind1], -y[ind1],color='blue',linewidth=lwidth)\n",
    "plt.plot(x[ind2], -y[ind2],color='blue',linewidth=lwidth)\n",
    "\n",
    "x = energies[::2]\n",
    "y = Fe_dos['eg-'][::2]\n",
    "ind1 = (x <= 0.01)\n",
    "ind2 = (x >  eps) & (y>= eps)\n",
    "plt.plot(x[ind1], -y[ind1],color='red',linewidth=lwidth)\n",
    "plt.plot(x[ind2], -y[ind2],color='red',linewidth=lwidth)\n",
    "\n",
    "\n",
    "\n",
    "x = energies[::2]\n",
    "y = Fe_dos['s+'][::2]\n",
    "ind1 = (x <= 0.01)\n",
    "#ind2 = np.abs(y[x > eps])> eps\n",
    "ind2 = (x >  eps) & (y>= eps)\n",
    "plt.plot(x[ind1], y[ind1],color='green',linewidth=lwidth)\n",
    "plt.plot(x[ind2], y[ind2],color='green',linewidth=lwidth)\n",
    "\n",
    "x = energies[::2]\n",
    "y = Fe_dos['s-'][::2]\n",
    "ind1 = (x <= 0.01)\n",
    "#ind2 = np.abs(y[x > eps])> eps\n",
    "ind2 = (x >  eps) & (y>= eps)\n",
    "plt.plot(x[ind1], -y[ind1],color='green',linewidth=lwidth)\n",
    "plt.plot(x[ind2], -y[ind2],color='green',linewidth=lwidth)\n",
    "\n",
    "\n",
    "plt.plot([0,0],[ymax,ymin],color='black',ls='--')\n",
    "plt.plot([xmax,xmin],[0,0],color='black')\n",
    "\n",
    "plt.xticks(xaxis_ticks,fontsize=15)\n",
    "plt.yticks(yaxis_ticks,fontsize=15)\n",
    "plt.xlabel('Energy - E$_{VBM}$ (eV)',fontsize=15)\n",
    "plt.ylabel('DOS (States/eV/spin/f.u.)',fontsize=15)\n",
    "\n",
    "\n",
    "filename = compound+'_'+calculation+'_PDOS_v0'\n",
    "#filename = compound+calculation+'_'+A_species\n",
    "#plt.savefig(filename+'.png',bbox_inches='tight',dpi=500)\n",
    "\n",
    "plt.savefig(filename+'.png',bbox_inches='tight',dpi=500)\n",
    "plt.savefig(filename+'.svg')\n",
    "\n",
    "plt.show()\n"
   ]
  },
  {
   "cell_type": "code",
   "execution_count": null,
   "metadata": {},
   "outputs": [],
   "source": []
  }
 ],
 "metadata": {
  "anaconda-cloud": {},
  "kernelspec": {
   "display_name": "Python [default]",
   "language": "python",
   "name": "python3"
  },
  "language_info": {
   "codemirror_mode": {
    "name": "ipython",
    "version": 3
   },
   "file_extension": ".py",
   "mimetype": "text/x-python",
   "name": "python",
   "nbconvert_exporter": "python",
   "pygments_lexer": "ipython3",
   "version": "3.5.5"
  }
 },
 "nbformat": 4,
 "nbformat_minor": 2
}
