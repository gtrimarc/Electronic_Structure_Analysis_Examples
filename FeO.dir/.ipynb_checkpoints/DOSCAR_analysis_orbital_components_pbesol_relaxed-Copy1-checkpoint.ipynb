{
 "cells": [
  {
   "cell_type": "code",
   "execution_count": 2,
   "metadata": {},
   "outputs": [],
   "source": [
    "%matplotlib inline\n",
    "\n",
    "import sys\n",
    "\n",
    "sys.path.append('/home/gtrimarc/work.dir/from_aws_or.dir/workspace.dir/Research.dir/Cs2PbCl2I2.dir/ase_vasp_dos/')\n",
    "\n",
    "#from plt import rcParams\n",
    "import matplotlib.pyplot as plt\n",
    "import numpy as np\n",
    "\n",
    "# plt.rc('font',**{'family':'sans-serif','sans-serif':['Arial']})\n",
    "\n",
    "#rcParams['font.family'] = 'sans-serif'\n",
    "#rcParams['font.sans-serif'] = ['Helvetica']\n",
    "\n",
    "from ase import Atoms\n",
    "from ase.io import read\n",
    "#from ase.calculators.vasp import Vasp\n",
    "\n",
    "from vasp import VaspDos"
   ]
  },
  {
   "cell_type": "markdown",
   "metadata": {},
   "source": [
    "Lableing of the columns in the DOSCAR file containing Total and Partial (site and orbital projected) DOSs.\n",
    "\n",
    "Below is given the dictionary that associates orbital labels to pdos columns in a DOSCAR file. The definition of this dictionary is the one used in the VaspDos class in the ASE VASP calculator, development version (Oct 19, 2013)\n",
    "\n",
    "Spin-unpolarized case:\n",
    "\n",
    "norb = {'s':1, 'py':2, 'pz':3, 'px':4, 'dxy':5, 'dyz':6, 'dz2':7, 'dxz':8, 'dx2':9}\n",
    "\n",
    "Spin-polarized case:\n",
    "\n",
    "norb = {'s+':1, 's-up':1, 's-':2, 's-down':2, 'py+':3, 'py-up':3, 'py-':4, 'py-down':4,'pz+':5, 'pz-up':5, 'pz-':6, 'pz-down':6, 'px+':7, 'px-up':7, 'px-':8, 'px-down':8,'dxy+':9, 'dxy-up':9, 'dxy-':10, 'dxy-down':10,'dyz+':11, 'dyz-up':11, 'dyz-':12, 'dyz-down':12,'dz2+':13, 'dz2-up':13, 'dz2-':14, 'dz2-down':14,'dxz+':15, 'dxz-up':15, 'dxz-':16, 'dxz-down':16,'dx2+':17, 'dx2-up':17, 'dx2-':18, 'dx2-down':18}"
   ]
  },
  {
   "cell_type": "code",
   "execution_count": 3,
   "metadata": {},
   "outputs": [],
   "source": [
    "work_dir = './DOS/'"
   ]
  },
  {
   "cell_type": "code",
   "execution_count": 4,
   "metadata": {},
   "outputs": [],
   "source": [
    "struct = read(work_dir+'POSCAR')\n",
    "outcar_file = work_dir+'OUTCAR'\n",
    "doscar_file = work_dir+'DOSCAR'"
   ]
  },
  {
   "cell_type": "code",
   "execution_count": 4,
   "metadata": {},
   "outputs": [
    {
     "data": {
      "text/plain": [
       "0.9511"
      ]
     },
     "execution_count": 4,
     "metadata": {},
     "output_type": "execute_result"
    }
   ],
   "source": [
    "# Read the Fermi level from the OUTCAR file of the current calculation\n",
    "\n",
    "E_f=None\n",
    "for line in open(outcar_file, 'r'):\n",
    "    if line.rfind('E-fermi') > -1:\n",
    "        E_f=float(line.split()[2])\n",
    "E_f"
   ]
  },
  {
   "cell_type": "code",
   "execution_count": 5,
   "metadata": {},
   "outputs": [
    {
     "name": "stdout",
     "output_type": "stream",
     "text": [
      "0.9511\n"
     ]
    }
   ],
   "source": [
    "# Import the total and orbital-projected density of states in the through the VaspDos \n",
    "# class. This class creates objects that hold total and site DOSs as properties that\n",
    "# are accessible as the following properties: efermi (Fermi level), energy (numpy array\n",
    "# of energies), dos (numpy array holding the total DOS). The site_dos() methods allow one\n",
    "# to access the site projected DOS\n",
    "\n",
    "# I adjusted the E_f in order to make the VBM coincide with the Fermi level\n",
    "#E_f = 3.64\n",
    "\n",
    "dos = VaspDos(doscar=doscar_file,efermi=E_f)\n",
    "print(dos.efermi)\n",
    "energies = dos.energy\n",
    "\n",
    "\n",
    "energies.size\n",
    "nedos = energies.size\n",
    "cont = np.zeros(nedos)"
   ]
  },
  {
   "cell_type": "code",
   "execution_count": 6,
   "metadata": {},
   "outputs": [],
   "source": [
    "# Step 1: Plot the Total Density of States\n",
    "\n",
    "#plt.plot(energies, dos.dos)\n",
    "#plt.xlabel('Energy - $E_f$ (eV)')\n",
    "#plt.xlim((-4,5))\n",
    "#plt.ylim((0,25))\n",
    "#plt.xlabel('Energy (eV)')\n",
    "#plt.ylabel('DOS')\n",
    "#plt.show()"
   ]
  },
  {
   "cell_type": "code",
   "execution_count": 7,
   "metadata": {},
   "outputs": [
    {
     "name": "stdout",
     "output_type": "stream",
     "text": [
      "Atoms(symbols='HfTl2Cl6', pbc=True, cell=[[0.0, 4.93706, 4.93706], [4.93706, 0.0, 4.93706], [4.93706, 4.93706, 0.0]])\n"
     ]
    }
   ],
   "source": [
    "print(struct)"
   ]
  },
  {
   "cell_type": "code",
   "execution_count": 8,
   "metadata": {},
   "outputs": [
    {
     "name": "stdout",
     "output_type": "stream",
     "text": [
      "['Hf', 'Tl', 'Tl', 'Cl', 'Cl', 'Cl', 'Cl', 'Cl', 'Cl']\n",
      "['Tl', 'Cl', 'Hf']\n"
     ]
    }
   ],
   "source": [
    "# Print for each atom in the structure its species\n",
    "print('Species of each atom in thi structure:')\n",
    "print(struct.get_chemical_symbols())\n",
    "#\n",
    "print('Species forming this compound:')\n",
    "print(list(set(struct.get_chemical_symbols())))\n",
    "\n",
    "sites = struct.get_chemical_symbols()"
   ]
  },
  {
   "cell_type": "code",
   "execution_count": 9,
   "metadata": {},
   "outputs": [],
   "source": [
    "def read_pdos_element_component(dos,sites,elem,orb,fact=1.0):\n",
    "    \n",
    "    nedos = dos.energy.size\n",
    "    \n",
    "    if orb == 's':\n",
    "        s_orb = ['s']\n",
    "        orb_set = s_orb\n",
    "    elif orb == 'p':\n",
    "        p_orb = ['px','py','pz']\n",
    "        orb_set = p_orb\n",
    "    elif orb == 'd':\n",
    "        d_orb = ['dxy','dyz','dxz','dz2','dx2']\n",
    "        orb_set = d_orb\n",
    "    \n",
    "    atom_list = [(i,sites[i]) for i in range(len(sites))]\n",
    "    \n",
    "    atom_pdos_comp = np.zeros(nedos)\n",
    "    for (iat,s) in atom_list:\n",
    "        if s == elem:\n",
    "            for o in orb_set:\n",
    "                atom_pdos_comp = atom_pdos_comp + dos.site_dos(iat,o)\n",
    "                \n",
    "    return fact*atom_pdos_comp"
   ]
  },
  {
   "cell_type": "code",
   "execution_count": 10,
   "metadata": {},
   "outputs": [],
   "source": [
    "def read_pdos_element_cumulative(dos,sites,elem,orb,fact):\n",
    "    \n",
    "    nedos = dos.energy.size\n",
    "    \n",
    "#    if orb == 's':\n",
    "#        s_orb = ['s']\n",
    "#        orb_set = s_orb\n",
    "#    elif orb == 'p':\n",
    "#        p_orb = ['px','py','pz']\n",
    "#        orb_set = p_orb\n",
    "#    elif orb == 'd':\n",
    "#        d_orb = ['dxy','dyz','dxz','dz2','dx2']\n",
    "#        orb_set = d_orb\n",
    "    \n",
    "    atom_list = [(i,sites[i]) for i in range(len(sites))]\n",
    "    \n",
    "    atom_pdos_comp = np.zeros(nedos)\n",
    "    for (iat,s) in atom_list:\n",
    "        if s == elem:\n",
    "            for o in orb:\n",
    "                atom_pdos_comp = atom_pdos_comp + dos.site_dos(iat,o)\n",
    "                \n",
    "    return fact*atom_pdos_comp"
   ]
  },
  {
   "cell_type": "code",
   "execution_count": 13,
   "metadata": {},
   "outputs": [],
   "source": [
    "# Step 2: prepare the files containing the site and orbital projected DOS\n",
    "\n",
    "#Cs_dos = {}\n",
    "#Cl_dos = {}\n",
    "Hf_dos = {}\n",
    "Tl_dos = {}\n",
    "Cl_dos = {}\n",
    "\n",
    "#########################################################################\n",
    "#element = 'Cs'\n",
    "\n",
    "fact = 1.0\n",
    "\n",
    "#Cs_dos['s']=read_pdos_element_component(dos,sites,elem=element,orb='s',fact=fact)\n",
    "#Cs_dos['p']=read_pdos_element_component(dos,sites,elem=element,orb='p',fact=fact)\n",
    "#Cs_dos['d']=read_pdos_element_component(dos,sites,elem=element,orb='d',fact=fact)\n",
    "\n",
    "#########################################################################\n",
    "#element = 'Cl'\n",
    "\n",
    "#Cl_dos['s']=read_pdos_element_component(dos,sites,elem=element,orb='s',fact=fact)\n",
    "#Cl_dos['p']=read_pdos_element_component(dos,sites,elem=element,orb='p',fact=fact)\n",
    "\n",
    "#orb = ('px','py')\n",
    "#Cl_dos[orb]=read_pdos_element_cumulative(dos,sites,elem=element,orb=orb,fact=fact)\n",
    "\n",
    "#orb = ('pz',)\n",
    "#Cl_dos[orb]=read_pdos_element_cumulative(dos,sites,elem=element,orb=orb,fact=fact)\n",
    "\n",
    "#Cl_dos['d']=read_pdos_element_component(dos,sites,elem=element,orb='d',fact=fact)\n",
    "\n",
    "#########################################################################\n",
    "element = 'Cl'\n",
    "\n",
    "Cl_dos['s']=read_pdos_element_component(dos,sites,elem=element,orb='s',fact=fact)\n",
    "Cl_dos['p']=read_pdos_element_component(dos,sites,elem=element,orb='p',fact=fact)\n",
    "\n",
    "#orb = ('px','py')\n",
    "#I_dos[orb]=read_pdos_element_cumulative(dos,sites,elem=element,orb=orb,fact=fact)\n",
    "\n",
    "#orb = ('pz',)\n",
    "#I_dos[orb]=read_pdos_element_cumulative(dos,sites,elem=element,orb=orb,fact=fact)\n",
    "\n",
    "#I_dos['d']=read_pdos_element_component(dos,sites,elem=element,orb='d',fact=fact)\n",
    "\n",
    "#########################################################################\n",
    "element = 'Hf'\n",
    "\n",
    "Hf_dos['s']=read_pdos_element_component(dos,sites,elem=element,orb='s',fact=fact)\n",
    "Hf_dos['p']=read_pdos_element_component(dos,sites,elem=element,orb='p',fact=fact)\n",
    "Hf_dos['d']=read_pdos_element_component(dos,sites,elem=element,orb='d',fact=fact)\n",
    "\n",
    "#########################################################################\n",
    "element = 'Tl'\n",
    "\n",
    "Tl_dos['s']=read_pdos_element_component(dos,sites,elem=element,orb='s',fact=fact)\n",
    "Tl_dos['p']=read_pdos_element_component(dos,sites,elem=element,orb='p',fact=fact)\n",
    "Tl_dos['d']=read_pdos_element_component(dos,sites,elem=element,orb='d',fact=fact)\n",
    "\n"
   ]
  },
  {
   "cell_type": "code",
   "execution_count": 20,
   "metadata": {},
   "outputs": [
    {
     "data": {
      "image/png": "[encoded data removed]",
      "text/plain": [
       "<matplotlib.figure.Figure at 0x7f2c68745cc0>"
      ]
     },
     "metadata": {},
     "output_type": "display_data"
    }
   ],
   "source": [
    "linew=1.5\n",
    "xmin = -6.0\n",
    "xmax = 8.0\n",
    "ymin = 0.0\n",
    "ymax = 10.\n",
    "\n",
    "alpha = 1.0\n",
    "\n",
    "plt.plot(energies[::4], Cl_dos['p'][::4],color='green', \n",
    "         alpha=alpha, ls='-', lw=linew, label= 'Cl p')\n",
    "\n",
    "plt.plot(energies[::4], Hf_dos['s'][::4],color='blue', lw=linew, label= 'Hf s')\n",
    "plt.plot(energies[::4], Hf_dos['p'][::4],color='purple', lw=linew, label= 'Hf p')\n",
    "plt.plot(energies[::4], Hf_dos['d'][::4],color='black', lw=linew, label= 'Hf d')\n",
    "\n",
    "plt.plot(energies[::4], Tl_dos['s'][::4],color='red', lw=linew, label= 'Tl s')\n",
    "plt.plot(energies[::4], Tl_dos['p'][::4],color='orange', lw=linew, label= 'Tl p')\n",
    "\n",
    "plt.plot([0.0,0.0],[ymin,ymax],'-',lw=0.5,color='black')\n",
    "\n",
    "plt.xlim((xmin,xmax))\n",
    "plt.ylim((ymin,ymax))\n",
    "\n",
    "tick_font_size = 17\n",
    "label_font_size = 23\n",
    "\n",
    "#font_type = \"Tahoma\"\n",
    "\n",
    "plt.title('PDOS of Tl-Hf-Cl in the cubic phase')\n",
    "plt.xlabel('Energy-E$_{VBM}$ (eV)',          size = label_font_size)\n",
    "plt.ylabel('DOS (states/eV-u.c.)', size = label_font_size)\n",
    "\n",
    "plt.xticks(size=tick_font_size)\n",
    "plt.yticks(size=tick_font_size)\n",
    "#filename='1h_charged_normal_conf_nolegend'\n",
    "#plt.savefig(filename+'.png',bbox_inches='tight',dpi=500)\n",
    "#plt.savefig(filename+'.svg')\n",
    "\n",
    "plt.legend(loc='center left', bbox_to_anchor=(0.75, 0.75))\n",
    "\n",
    "filename='Tl2HfCl6_pbesol_relaxed_PDOS_orb_resolved'\n",
    "plt.savefig(filename+'.png',bbox_inches='tight',dpi=500)\n",
    "#plt.savefig(filename+'.svg')\n",
    "\n",
    "plt.show()"
   ]
  },
  {
   "cell_type": "code",
   "execution_count": null,
   "metadata": {
    "collapsed": true
   },
   "outputs": [],
   "source": []
  }
 ],
 "metadata": {
  "anaconda-cloud": {},
  "kernelspec": {
   "display_name": "Python [default]",
   "language": "python",
   "name": "python3"
  },
  "language_info": {
   "codemirror_mode": {
    "name": "ipython",
    "version": 3
   },
   "file_extension": ".py",
   "mimetype": "text/x-python",
   "name": "python",
   "nbconvert_exporter": "python",
   "pygments_lexer": "ipython3",
   "version": "3.5.5"
  }
 },
 "nbformat": 4,
 "nbformat_minor": 2
}
